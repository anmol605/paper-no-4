{
  "nbformat": 4,
  "nbformat_minor": 0,
  "metadata": {
    "colab": {
      "provenance": []
    },
    "kernelspec": {
      "name": "python3",
      "display_name": "Python 3"
    },
    "language_info": {
      "name": "python"
    }
  },
  "cells": [
    {
      "cell_type": "code",
      "execution_count": null,
      "metadata": {
        "id": "lJvVnwh3SHl1"
      },
      "outputs": [],
      "source": []
    },
    {
      "cell_type": "markdown",
      "source": [
        "#Theory Questions"
      ],
      "metadata": {
        "id": "yZTqT51dSN2d"
      }
    },
    {
      "cell_type": "markdown",
      "source": [
        "Q 1) What is the difference between a function and a method in Python?\n",
        "    *cgcghvhj"
      ],
      "metadata": {
        "id": "Z-evV4clSYjN"
      }
    }
  ]
}